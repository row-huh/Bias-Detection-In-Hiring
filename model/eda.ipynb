{
 "cells": [
  {
   "cell_type": "code",
   "execution_count": null,
   "metadata": {},
   "outputs": [
    {
     "name": "stdout",
     "output_type": "stream",
     "text": [
      "Dataset Cleaning Summary:\n",
      "Total_Records: 73462\n",
      "Average_Salary: 67750.2606109281\n",
      "Average_Skills_Count: 13.428221393373445\n",
      "Employed_Percentage: 53.62228090713567\n",
      "Top_Skills: {'JavaScript': np.int64(49347), 'Docker': np.int64(40224), 'HTML/CSS': np.int64(40207), 'SQL': np.int64(38361), 'Git': np.int64(35911), 'AWS': np.int64(31590), 'Python': np.int64(31159), 'PostgreSQL': np.int64(30102), 'MySQL': np.int64(29490), 'TypeScript': np.int64(27533)}\n"
     ]
    }
   ],
   "source": [
    "import pandas as pd\n",
    "import numpy as np\n",
    "\n",
    "# Read the CSV file\n",
    "df = pd.read_csv('datasets/bias_detection_in_hiring.csv')\n",
    "\n",
    "# Data Cleaning Steps:\n",
    "\n",
    "# 1. Handle Age Column\n",
    "def process_age(age):\n",
    "    if age == '<35':\n",
    "        return 1  # Under 35\n",
    "    elif age == '>35':\n",
    "        return 2  # Over 35\n",
    "    else:\n",
    "        return np.nan\n",
    "\n",
    "df['Age_Category'] = df['Age'].apply(process_age)\n",
    "\n",
    "# 2. Process Employment Column\n",
    "df['Is_Employed'] = df['Employed'].map({0: 'No', 1: 'Yes'})\n",
    "\n",
    "# 3. Split and Process Skills Columns\n",
    "def process_skills(skills_string):\n",
    "    if pd.isna(skills_string):\n",
    "        return []\n",
    "    return skills_string.split(';')\n",
    "\n",
    "df['Skills_List'] = df['HaveWorkedWith'].apply(process_skills)\n",
    "\n",
    "# 4. Count Number of Skills\n",
    "df['Skills_Count'] = df['Skills_List'].apply(len)\n",
    "\n",
    "# 5. Create Categorical Columns\n",
    "# Education Level\n",
    "df['Education_Level'] = pd.Categorical(df['EdLevel'])\n",
    "\n",
    "# Gender\n",
    "df['Gender_Category'] = pd.Categorical(df['Gender'])\n",
    "\n",
    "# 6. Convert Salary to Numeric\n",
    "df['Previous_Salary'] = pd.to_numeric(df['PreviousSalary'], errors='coerce')\n",
    "\n",
    "# 7. Years of Coding Experience Cleaning\n",
    "df['Years_Coding'] = pd.to_numeric(df['YearsCode'], errors='coerce')\n",
    "df['Years_Professional_Coding'] = pd.to_numeric(df['YearsCodePro'], errors='coerce')\n",
    "\n",
    "# 8. One-Hot Encode Categorical Variables\n",
    "categorical_columns = ['Accessibility', 'MentalHealth', 'MainBranch']\n",
    "df_encoded = pd.get_dummies(df, columns=categorical_columns)\n",
    "\n",
    "# 9. Summarize Skills\n",
    "def most_common_skills(skills_list):\n",
    "    # Flatten the list of skills\n",
    "    all_skills = [skill for sublist in skills_list for skill in sublist]\n",
    "    # Count and return top 10\n",
    "    return pd.Series(all_skills).value_counts().head(10)\n",
    "\n",
    "top_skills = most_common_skills(df['Skills_List'])\n",
    "\n",
    "# 10. Basic Descriptive Statistics\n",
    "summary_stats = {\n",
    "    'Total_Records': len(df),\n",
    "    'Average_Salary': df['Previous_Salary'].mean(),\n",
    "    'Average_Skills_Count': df['Skills_Count'].mean(),\n",
    "    'Employed_Percentage': df['Is_Employed'].value_counts(normalize=True)['Yes'] * 100,\n",
    "    'Top_Skills': dict(top_skills)\n",
    "}\n",
    "\n",
    "# Print Summary\n",
    "print(\"Dataset Cleaning Summary:\")\n",
    "for key, value in summary_stats.items():\n",
    "    print(f\"{key}: {value}\")\n",
    "\n",
    "# Optional: Save cleaned dataset\n",
    "df.to_csv('datasets/cleaned_dataset.csv', index=False)"
   ]
  },
  {
   "cell_type": "code",
   "execution_count": null,
   "metadata": {},
   "outputs": [],
   "source": []
  }
 ],
 "metadata": {
  "kernelspec": {
   "display_name": "Python 3",
   "language": "python",
   "name": "python3"
  },
  "language_info": {
   "codemirror_mode": {
    "name": "ipython",
    "version": 3
   },
   "file_extension": ".py",
   "mimetype": "text/x-python",
   "name": "python",
   "nbconvert_exporter": "python",
   "pygments_lexer": "ipython3",
   "version": "3.12.8"
  }
 },
 "nbformat": 4,
 "nbformat_minor": 2
}
