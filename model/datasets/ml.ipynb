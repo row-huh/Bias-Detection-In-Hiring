{
 "cells": [
  {
   "cell_type": "markdown",
   "metadata": {},
   "source": [
    "# Data Inspection\n",
    "\n",
    "- Exploring missing values\n",
    "- Making sure the columns and datatypes are correct\n"
   ]
  },
  {
   "cell_type": "code",
   "execution_count": 10,
   "metadata": {},
   "outputs": [
    {
     "name": "stdout",
     "output_type": "stream",
     "text": [
      "   S.No  Age Accessibility        EdLevel  Employment Gender MentalHealth  \\\n",
      "0     0  <35            No         Master           1    Man           No   \n",
      "1     1  <35            No  Undergraduate           1    Man           No   \n",
      "2     2  <35            No         Master           1    Man           No   \n",
      "3     3  <35            No  Undergraduate           1    Man           No   \n",
      "4     4  >35            No            PhD           0    Man           No   \n",
      "\n",
      "  MainBranch  YearsCode  YearsCodePro    Country  PreviousSalary  \\\n",
      "0        Dev          7             4     Sweden         51552.0   \n",
      "1        Dev         12             5      Spain         46482.0   \n",
      "2        Dev         15             6    Germany         77290.0   \n",
      "3        Dev          9             6     Canada         46135.0   \n",
      "4     NotDev         40            30  Singapore        160932.0   \n",
      "\n",
      "                                      HaveWorkedWith  ComputerSkills  Employed  \n",
      "0                          C++;Python;Git;PostgreSQL               4         0  \n",
      "1  Bash/Shell;HTML/CSS;JavaScript;Node.js;SQL;Typ...              12         1  \n",
      "2             C;C++;Java;Perl;Ruby;Git;Ruby on Rails               7         0  \n",
      "3  Bash/Shell;HTML/CSS;JavaScript;PHP;Ruby;SQL;Gi...              13         0  \n",
      "4                                         C++;Python               2         0  \n",
      "<class 'pandas.core.frame.DataFrame'>\n",
      "RangeIndex: 73462 entries, 0 to 73461\n",
      "Data columns (total 15 columns):\n",
      " #   Column          Non-Null Count  Dtype  \n",
      "---  ------          --------------  -----  \n",
      " 0   S.No            73462 non-null  int64  \n",
      " 1   Age             73462 non-null  object \n",
      " 2   Accessibility   73462 non-null  object \n",
      " 3   EdLevel         73462 non-null  object \n",
      " 4   Employment      73462 non-null  int64  \n",
      " 5   Gender          73462 non-null  object \n",
      " 6   MentalHealth    73462 non-null  object \n",
      " 7   MainBranch      73462 non-null  object \n",
      " 8   YearsCode       73462 non-null  int64  \n",
      " 9   YearsCodePro    73462 non-null  int64  \n",
      " 10  Country         73462 non-null  object \n",
      " 11  PreviousSalary  73462 non-null  float64\n",
      " 12  HaveWorkedWith  73399 non-null  object \n",
      " 13  ComputerSkills  73462 non-null  int64  \n",
      " 14  Employed        73462 non-null  int64  \n",
      "dtypes: float64(1), int64(6), object(8)\n",
      "memory usage: 8.4+ MB\n",
      "None\n",
      "S.No               0\n",
      "Age                0\n",
      "Accessibility      0\n",
      "EdLevel            0\n",
      "Employment         0\n",
      "Gender             0\n",
      "MentalHealth       0\n",
      "MainBranch         0\n",
      "YearsCode          0\n",
      "YearsCodePro       0\n",
      "Country            0\n",
      "PreviousSalary     0\n",
      "HaveWorkedWith    63\n",
      "ComputerSkills     0\n",
      "Employed           0\n",
      "dtype: int64\n"
     ]
    }
   ],
   "source": [
    "import pandas as pd\n",
    "\n",
    "# Load the dataset\n",
    "data = pd.read_csv(\"bias_detection_in_hiring.csv\")\n",
    "\n",
    "# View the first few rows\n",
    "print(data.head())\n",
    "\n",
    "# Get a summary of the data\n",
    "print(data.info())\n",
    "\n",
    "# Check for missing values\n",
    "print(data.isnull().sum())\n"
   ]
  },
  {
   "cell_type": "code",
   "execution_count": 6,
   "metadata": {},
   "outputs": [
    {
     "ename": "TypeError",
     "evalue": "Cannot convert ['<35' '<35' '<35' ... '<35' '<35' '<35'] to numeric",
     "output_type": "error",
     "traceback": [
      "\u001b[1;31m---------------------------------------------------------------------------\u001b[0m",
      "\u001b[1;31mTypeError\u001b[0m                                 Traceback (most recent call last)",
      "Cell \u001b[1;32mIn[6], line 2\u001b[0m\n\u001b[0;32m      1\u001b[0m \u001b[38;5;66;03m# Fill missing numerical values with median\u001b[39;00m\n\u001b[1;32m----> 2\u001b[0m data[\u001b[38;5;124m'\u001b[39m\u001b[38;5;124mAge\u001b[39m\u001b[38;5;124m'\u001b[39m] \u001b[38;5;241m=\u001b[39m data[\u001b[38;5;124m'\u001b[39m\u001b[38;5;124mAge\u001b[39m\u001b[38;5;124m'\u001b[39m]\u001b[38;5;241m.\u001b[39mfillna(\u001b[43mdata\u001b[49m\u001b[43m[\u001b[49m\u001b[38;5;124;43m'\u001b[39;49m\u001b[38;5;124;43mAge\u001b[39;49m\u001b[38;5;124;43m'\u001b[39;49m\u001b[43m]\u001b[49m\u001b[38;5;241;43m.\u001b[39;49m\u001b[43mmedian\u001b[49m\u001b[43m(\u001b[49m\u001b[43m)\u001b[49m)\n\u001b[0;32m      3\u001b[0m data[\u001b[38;5;124m'\u001b[39m\u001b[38;5;124myearsofexperience\u001b[39m\u001b[38;5;124m'\u001b[39m] \u001b[38;5;241m=\u001b[39m data[\u001b[38;5;124m'\u001b[39m\u001b[38;5;124myearsofexperience\u001b[39m\u001b[38;5;124m'\u001b[39m]\u001b[38;5;241m.\u001b[39mfillna(data[\u001b[38;5;124m'\u001b[39m\u001b[38;5;124myearsofexperience\u001b[39m\u001b[38;5;124m'\u001b[39m]\u001b[38;5;241m.\u001b[39mmedian())\n\u001b[0;32m      5\u001b[0m \u001b[38;5;66;03m# Fill missing categorical values with mode\u001b[39;00m\n",
      "File \u001b[1;32mc:\\Users\\Roha\\OneDrive\\Documents\\Neutral\\.venv\\Lib\\site-packages\\pandas\\core\\series.py:6559\u001b[0m, in \u001b[0;36mSeries.median\u001b[1;34m(self, axis, skipna, numeric_only, **kwargs)\u001b[0m\n\u001b[0;32m   6551\u001b[0m \u001b[38;5;129m@doc\u001b[39m(make_doc(\u001b[38;5;124m\"\u001b[39m\u001b[38;5;124mmedian\u001b[39m\u001b[38;5;124m\"\u001b[39m, ndim\u001b[38;5;241m=\u001b[39m\u001b[38;5;241m1\u001b[39m))\n\u001b[0;32m   6552\u001b[0m \u001b[38;5;28;01mdef\u001b[39;00m \u001b[38;5;21mmedian\u001b[39m(\n\u001b[0;32m   6553\u001b[0m     \u001b[38;5;28mself\u001b[39m,\n\u001b[1;32m   (...)\u001b[0m\n\u001b[0;32m   6557\u001b[0m     \u001b[38;5;241m*\u001b[39m\u001b[38;5;241m*\u001b[39mkwargs,\n\u001b[0;32m   6558\u001b[0m ):\n\u001b[1;32m-> 6559\u001b[0m     \u001b[38;5;28;01mreturn\u001b[39;00m \u001b[43mNDFrame\u001b[49m\u001b[38;5;241;43m.\u001b[39;49m\u001b[43mmedian\u001b[49m\u001b[43m(\u001b[49m\u001b[38;5;28;43mself\u001b[39;49m\u001b[43m,\u001b[49m\u001b[43m \u001b[49m\u001b[43maxis\u001b[49m\u001b[43m,\u001b[49m\u001b[43m \u001b[49m\u001b[43mskipna\u001b[49m\u001b[43m,\u001b[49m\u001b[43m \u001b[49m\u001b[43mnumeric_only\u001b[49m\u001b[43m,\u001b[49m\u001b[43m \u001b[49m\u001b[38;5;241;43m*\u001b[39;49m\u001b[38;5;241;43m*\u001b[39;49m\u001b[43mkwargs\u001b[49m\u001b[43m)\u001b[49m\n",
      "File \u001b[1;32mc:\\Users\\Roha\\OneDrive\\Documents\\Neutral\\.venv\\Lib\\site-packages\\pandas\\core\\generic.py:12431\u001b[0m, in \u001b[0;36mNDFrame.median\u001b[1;34m(self, axis, skipna, numeric_only, **kwargs)\u001b[0m\n\u001b[0;32m  12424\u001b[0m \u001b[38;5;28;01mdef\u001b[39;00m \u001b[38;5;21mmedian\u001b[39m(\n\u001b[0;32m  12425\u001b[0m     \u001b[38;5;28mself\u001b[39m,\n\u001b[0;32m  12426\u001b[0m     axis: Axis \u001b[38;5;241m|\u001b[39m \u001b[38;5;28;01mNone\u001b[39;00m \u001b[38;5;241m=\u001b[39m \u001b[38;5;241m0\u001b[39m,\n\u001b[1;32m   (...)\u001b[0m\n\u001b[0;32m  12429\u001b[0m     \u001b[38;5;241m*\u001b[39m\u001b[38;5;241m*\u001b[39mkwargs,\n\u001b[0;32m  12430\u001b[0m ) \u001b[38;5;241m-\u001b[39m\u001b[38;5;241m>\u001b[39m Series \u001b[38;5;241m|\u001b[39m \u001b[38;5;28mfloat\u001b[39m:\n\u001b[1;32m> 12431\u001b[0m     \u001b[38;5;28;01mreturn\u001b[39;00m \u001b[38;5;28;43mself\u001b[39;49m\u001b[38;5;241;43m.\u001b[39;49m\u001b[43m_stat_function\u001b[49m\u001b[43m(\u001b[49m\n\u001b[0;32m  12432\u001b[0m \u001b[43m        \u001b[49m\u001b[38;5;124;43m\"\u001b[39;49m\u001b[38;5;124;43mmedian\u001b[39;49m\u001b[38;5;124;43m\"\u001b[39;49m\u001b[43m,\u001b[49m\u001b[43m \u001b[49m\u001b[43mnanops\u001b[49m\u001b[38;5;241;43m.\u001b[39;49m\u001b[43mnanmedian\u001b[49m\u001b[43m,\u001b[49m\u001b[43m \u001b[49m\u001b[43maxis\u001b[49m\u001b[43m,\u001b[49m\u001b[43m \u001b[49m\u001b[43mskipna\u001b[49m\u001b[43m,\u001b[49m\u001b[43m \u001b[49m\u001b[43mnumeric_only\u001b[49m\u001b[43m,\u001b[49m\u001b[43m \u001b[49m\u001b[38;5;241;43m*\u001b[39;49m\u001b[38;5;241;43m*\u001b[39;49m\u001b[43mkwargs\u001b[49m\n\u001b[0;32m  12433\u001b[0m \u001b[43m    \u001b[49m\u001b[43m)\u001b[49m\n",
      "File \u001b[1;32mc:\\Users\\Roha\\OneDrive\\Documents\\Neutral\\.venv\\Lib\\site-packages\\pandas\\core\\generic.py:12377\u001b[0m, in \u001b[0;36mNDFrame._stat_function\u001b[1;34m(self, name, func, axis, skipna, numeric_only, **kwargs)\u001b[0m\n\u001b[0;32m  12373\u001b[0m nv\u001b[38;5;241m.\u001b[39mvalidate_func(name, (), kwargs)\n\u001b[0;32m  12375\u001b[0m validate_bool_kwarg(skipna, \u001b[38;5;124m\"\u001b[39m\u001b[38;5;124mskipna\u001b[39m\u001b[38;5;124m\"\u001b[39m, none_allowed\u001b[38;5;241m=\u001b[39m\u001b[38;5;28;01mFalse\u001b[39;00m)\n\u001b[1;32m> 12377\u001b[0m \u001b[38;5;28;01mreturn\u001b[39;00m \u001b[38;5;28;43mself\u001b[39;49m\u001b[38;5;241;43m.\u001b[39;49m\u001b[43m_reduce\u001b[49m\u001b[43m(\u001b[49m\n\u001b[0;32m  12378\u001b[0m \u001b[43m    \u001b[49m\u001b[43mfunc\u001b[49m\u001b[43m,\u001b[49m\u001b[43m \u001b[49m\u001b[43mname\u001b[49m\u001b[38;5;241;43m=\u001b[39;49m\u001b[43mname\u001b[49m\u001b[43m,\u001b[49m\u001b[43m \u001b[49m\u001b[43maxis\u001b[49m\u001b[38;5;241;43m=\u001b[39;49m\u001b[43maxis\u001b[49m\u001b[43m,\u001b[49m\u001b[43m \u001b[49m\u001b[43mskipna\u001b[49m\u001b[38;5;241;43m=\u001b[39;49m\u001b[43mskipna\u001b[49m\u001b[43m,\u001b[49m\u001b[43m \u001b[49m\u001b[43mnumeric_only\u001b[49m\u001b[38;5;241;43m=\u001b[39;49m\u001b[43mnumeric_only\u001b[49m\n\u001b[0;32m  12379\u001b[0m \u001b[43m\u001b[49m\u001b[43m)\u001b[49m\n",
      "File \u001b[1;32mc:\\Users\\Roha\\OneDrive\\Documents\\Neutral\\.venv\\Lib\\site-packages\\pandas\\core\\series.py:6457\u001b[0m, in \u001b[0;36mSeries._reduce\u001b[1;34m(self, op, name, axis, skipna, numeric_only, filter_type, **kwds)\u001b[0m\n\u001b[0;32m   6452\u001b[0m     \u001b[38;5;66;03m# GH#47500 - change to TypeError to match other methods\u001b[39;00m\n\u001b[0;32m   6453\u001b[0m     \u001b[38;5;28;01mraise\u001b[39;00m \u001b[38;5;167;01mTypeError\u001b[39;00m(\n\u001b[0;32m   6454\u001b[0m         \u001b[38;5;124mf\u001b[39m\u001b[38;5;124m\"\u001b[39m\u001b[38;5;124mSeries.\u001b[39m\u001b[38;5;132;01m{\u001b[39;00mname\u001b[38;5;132;01m}\u001b[39;00m\u001b[38;5;124m does not allow \u001b[39m\u001b[38;5;132;01m{\u001b[39;00mkwd_name\u001b[38;5;132;01m}\u001b[39;00m\u001b[38;5;124m=\u001b[39m\u001b[38;5;132;01m{\u001b[39;00mnumeric_only\u001b[38;5;132;01m}\u001b[39;00m\u001b[38;5;124m \u001b[39m\u001b[38;5;124m\"\u001b[39m\n\u001b[0;32m   6455\u001b[0m         \u001b[38;5;124m\"\u001b[39m\u001b[38;5;124mwith non-numeric dtypes.\u001b[39m\u001b[38;5;124m\"\u001b[39m\n\u001b[0;32m   6456\u001b[0m     )\n\u001b[1;32m-> 6457\u001b[0m \u001b[38;5;28;01mreturn\u001b[39;00m \u001b[43mop\u001b[49m\u001b[43m(\u001b[49m\u001b[43mdelegate\u001b[49m\u001b[43m,\u001b[49m\u001b[43m \u001b[49m\u001b[43mskipna\u001b[49m\u001b[38;5;241;43m=\u001b[39;49m\u001b[43mskipna\u001b[49m\u001b[43m,\u001b[49m\u001b[43m \u001b[49m\u001b[38;5;241;43m*\u001b[39;49m\u001b[38;5;241;43m*\u001b[39;49m\u001b[43mkwds\u001b[49m\u001b[43m)\u001b[49m\n",
      "File \u001b[1;32mc:\\Users\\Roha\\OneDrive\\Documents\\Neutral\\.venv\\Lib\\site-packages\\pandas\\core\\nanops.py:147\u001b[0m, in \u001b[0;36mbottleneck_switch.__call__.<locals>.f\u001b[1;34m(values, axis, skipna, **kwds)\u001b[0m\n\u001b[0;32m    145\u001b[0m         result \u001b[38;5;241m=\u001b[39m alt(values, axis\u001b[38;5;241m=\u001b[39maxis, skipna\u001b[38;5;241m=\u001b[39mskipna, \u001b[38;5;241m*\u001b[39m\u001b[38;5;241m*\u001b[39mkwds)\n\u001b[0;32m    146\u001b[0m \u001b[38;5;28;01melse\u001b[39;00m:\n\u001b[1;32m--> 147\u001b[0m     result \u001b[38;5;241m=\u001b[39m \u001b[43malt\u001b[49m\u001b[43m(\u001b[49m\u001b[43mvalues\u001b[49m\u001b[43m,\u001b[49m\u001b[43m \u001b[49m\u001b[43maxis\u001b[49m\u001b[38;5;241;43m=\u001b[39;49m\u001b[43maxis\u001b[49m\u001b[43m,\u001b[49m\u001b[43m \u001b[49m\u001b[43mskipna\u001b[49m\u001b[38;5;241;43m=\u001b[39;49m\u001b[43mskipna\u001b[49m\u001b[43m,\u001b[49m\u001b[43m \u001b[49m\u001b[38;5;241;43m*\u001b[39;49m\u001b[38;5;241;43m*\u001b[39;49m\u001b[43mkwds\u001b[49m\u001b[43m)\u001b[49m\n\u001b[0;32m    149\u001b[0m \u001b[38;5;28;01mreturn\u001b[39;00m result\n",
      "File \u001b[1;32mc:\\Users\\Roha\\OneDrive\\Documents\\Neutral\\.venv\\Lib\\site-packages\\pandas\\core\\nanops.py:787\u001b[0m, in \u001b[0;36mnanmedian\u001b[1;34m(values, axis, skipna, mask)\u001b[0m\n\u001b[0;32m    785\u001b[0m     inferred \u001b[38;5;241m=\u001b[39m lib\u001b[38;5;241m.\u001b[39minfer_dtype(values)\n\u001b[0;32m    786\u001b[0m     \u001b[38;5;28;01mif\u001b[39;00m inferred \u001b[38;5;129;01min\u001b[39;00m [\u001b[38;5;124m\"\u001b[39m\u001b[38;5;124mstring\u001b[39m\u001b[38;5;124m\"\u001b[39m, \u001b[38;5;124m\"\u001b[39m\u001b[38;5;124mmixed\u001b[39m\u001b[38;5;124m\"\u001b[39m]:\n\u001b[1;32m--> 787\u001b[0m         \u001b[38;5;28;01mraise\u001b[39;00m \u001b[38;5;167;01mTypeError\u001b[39;00m(\u001b[38;5;124mf\u001b[39m\u001b[38;5;124m\"\u001b[39m\u001b[38;5;124mCannot convert \u001b[39m\u001b[38;5;132;01m{\u001b[39;00mvalues\u001b[38;5;132;01m}\u001b[39;00m\u001b[38;5;124m to numeric\u001b[39m\u001b[38;5;124m\"\u001b[39m)\n\u001b[0;32m    788\u001b[0m \u001b[38;5;28;01mtry\u001b[39;00m:\n\u001b[0;32m    789\u001b[0m     values \u001b[38;5;241m=\u001b[39m values\u001b[38;5;241m.\u001b[39mastype(\u001b[38;5;124m\"\u001b[39m\u001b[38;5;124mf8\u001b[39m\u001b[38;5;124m\"\u001b[39m)\n",
      "\u001b[1;31mTypeError\u001b[0m: Cannot convert ['<35' '<35' '<35' ... '<35' '<35' '<35'] to numeric"
     ]
    }
   ],
   "source": [
    "# Fill missing numerical values with median\n",
    "data['Age'] = data['Age'].fillna(data['Age'].median())\n",
    "data['yearsofexperience'] = data['yearsofexperience'].fillna(data['yearsofexperience'].median())\n",
    "\n",
    "# Fill missing categorical values with mode\n",
    "data['sex'] = data['sex'].fillna(data['sex'].mode()[0])\n",
    "data['skills'] = data['skills'].fillna(data['skills'].mode()[0])\n"
   ]
  },
  {
   "cell_type": "markdown",
   "metadata": {},
   "source": [
    "The 'Age' column contains value ['<35', '>35'] so to solve this,\n",
    "we'll replace those with median values and since we don't have enough information regarding this\n",
    "We'll assume <35 to be 30 and >35 to be 40"
   ]
  },
  {
   "cell_type": "code",
   "execution_count": 16,
   "metadata": {},
   "outputs": [
    {
     "name": "stdout",
     "output_type": "stream",
     "text": [
      "[30 40]\n",
      "[30 40]\n",
      "   S.No  Age Accessibility        EdLevel  Employment Gender MentalHealth  \\\n",
      "0     0   30            No         Master           1    Man           No   \n",
      "1     1   30            No  Undergraduate           1    Man           No   \n",
      "2     2   30            No         Master           1    Man           No   \n",
      "3     3   30            No  Undergraduate           1    Man           No   \n",
      "4     4   40            No            PhD           0    Man           No   \n",
      "\n",
      "  MainBranch  YearsCode  YearsCodePro    Country  PreviousSalary  \\\n",
      "0        Dev          7             4     Sweden         51552.0   \n",
      "1        Dev         12             5      Spain         46482.0   \n",
      "2        Dev         15             6    Germany         77290.0   \n",
      "3        Dev          9             6     Canada         46135.0   \n",
      "4     NotDev         40            30  Singapore        160932.0   \n",
      "\n",
      "                                      HaveWorkedWith  ComputerSkills  Employed  \n",
      "0                          C++;Python;Git;PostgreSQL               4         0  \n",
      "1  Bash/Shell;HTML/CSS;JavaScript;Node.js;SQL;Typ...              12         1  \n",
      "2             C;C++;Java;Perl;Ruby;Git;Ruby on Rails               7         0  \n",
      "3  Bash/Shell;HTML/CSS;JavaScript;PHP;Ruby;SQL;Gi...              13         0  \n",
      "4                                         C++;Python               2         0  \n"
     ]
    }
   ],
   "source": [
    "# age columns are a problem so fixing that\n",
    "\n",
    "# Check unique values in the Age column\n",
    "print(data['Age'].unique())\n",
    "\n",
    "# Replace '<35' with 34 and '>35' with 36\n",
    "data['Age'] = data['Age'].replace({'<35': '30', '>35': '40'})\n",
    "\n",
    "\n",
    "print(data['Age'].unique())\n",
    "\n",
    "# converting to numeric\n",
    "data['Age'] = pd.to_numeric(data['Age'], errors='coerce')\n",
    "\n",
    "# fill missing values with median age\n",
    "data['Age'] = data['Age'].fillna(data['Age'].median())\n",
    "\n",
    "print(data.head())"
   ]
  },
  {
   "cell_type": "markdown",
   "metadata": {},
   "source": [
    "Cleaning object columns - converting datatype 'man', 'woman' to m and f for male and female and n for non binary\n"
   ]
  },
  {
   "cell_type": "code",
   "execution_count": 20,
   "metadata": {},
   "outputs": [
    {
     "name": "stdout",
     "output_type": "stream",
     "text": [
      "['man' 'woman' 'nonbinary']\n",
      "   S.No  Age Accessibility        EdLevel  Employment Gender MentalHealth  \\\n",
      "0     0   30            No         Master           1      m           No   \n",
      "1     1   30            No  Undergraduate           1      m           No   \n",
      "2     2   30            No         Master           1      m           No   \n",
      "3     3   30            No  Undergraduate           1      m           No   \n",
      "4     4   40            No            PhD           0      m           No   \n",
      "\n",
      "  MainBranch  YearsCode  YearsCodePro    Country  PreviousSalary  \\\n",
      "0        Dev          7             4     Sweden         51552.0   \n",
      "1        Dev         12             5      Spain         46482.0   \n",
      "2        Dev         15             6    Germany         77290.0   \n",
      "3        Dev          9             6     Canada         46135.0   \n",
      "4     NotDev         40            30  Singapore        160932.0   \n",
      "\n",
      "                                      HaveWorkedWith  ComputerSkills  Employed  \n",
      "0                          C++;Python;Git;PostgreSQL               4         0  \n",
      "1  Bash/Shell;HTML/CSS;JavaScript;Node.js;SQL;Typ...              12         1  \n",
      "2             C;C++;Java;Perl;Ruby;Git;Ruby on Rails               7         0  \n",
      "3  Bash/Shell;HTML/CSS;JavaScript;PHP;Ruby;SQL;Gi...              13         0  \n",
      "4                                         C++;Python               2         0  \n"
     ]
    }
   ],
   "source": [
    "# Check unique values\n",
    "print(data['Gender'].unique())\n",
    "\n",
    "# Replace inconsistent entries (e.g., 'male', 'Male', 'M' -> 'Male')\n",
    "data['Gender'] = data['Gender'].str.lower().replace({\n",
    "    'man': 'm',\n",
    "    'woman': 'f',\n",
    "    'nonbinary': 'n'\n",
    "})\n",
    "\n",
    "print(data.head())\n"
   ]
  },
  {
   "cell_type": "code",
   "execution_count": 21,
   "metadata": {},
   "outputs": [],
   "source": [
    "data.to_csv(\"cleaned_dataset.csv\", index=False)\n"
   ]
  }
 ],
 "metadata": {
  "kernelspec": {
   "display_name": ".venv",
   "language": "python",
   "name": "python3"
  },
  "language_info": {
   "codemirror_mode": {
    "name": "ipython",
    "version": 3
   },
   "file_extension": ".py",
   "mimetype": "text/x-python",
   "name": "python",
   "nbconvert_exporter": "python",
   "pygments_lexer": "ipython3",
   "version": "3.12.8"
  }
 },
 "nbformat": 4,
 "nbformat_minor": 2
}
